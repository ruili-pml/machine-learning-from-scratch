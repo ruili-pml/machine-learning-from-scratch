{
 "cells": [
  {
   "cell_type": "markdown",
   "metadata": {},
   "source": [
    "# Implementation"
   ]
  },
  {
   "cell_type": "code",
   "execution_count": 1,
   "metadata": {},
   "outputs": [],
   "source": [
    "import numpy as np\n",
    "\n",
    "def distance_function(class_data, cur_data_point):\n",
    "    # given cur_data_point, calculate the distance between it and each data in a class\n",
    "    # class_data [N, D] N: number of data, D: feature dimension\n",
    "    # cur_data_point [1, D]\n",
    "    \n",
    "    distance = np.sqrt(np.sum((cur_data_point - class_data) ** 2, axis=1)) # [N, ]\n",
    "    \n",
    "    return distance\n",
    "    \n",
    "\n",
    "def cal_distance(all_data, cur_data_point, distance_function):\n",
    "    \n",
    "    # calculate distance between a given data point and training data\n",
    "    # return the tuple (distance, class index)\n",
    "    # all_data: list of number of data points in different classes\n",
    "    \n",
    "    distance_with_index = []\n",
    "    \n",
    "    for (class_index, class_data) in enumerate(all_data):\n",
    "        total_distance = distance_function(class_data, cur_data_point)\n",
    "        for distance in total_distance:\n",
    "            distance_with_index.append((distance, class_index))\n",
    "\n",
    "    return distance_with_index\n",
    "\n",
    "# QuickSort implementation for sorting distances and keeping index\n",
    "def quicksort(arr):\n",
    "\n",
    "    # now the arr is something like [(5, 0), (2, 1), (6, 0)]\n",
    "    if len(arr) < 2:\n",
    "        return arr\n",
    "\n",
    "    else:\n",
    "        pivot = arr[0][0]\n",
    "        lesser = [item for item in arr if item[0] < pivot]\n",
    "        middle = [item for item in arr if item[0] == pivot]\n",
    "        greater = [item for item in arr if item[0] > pivot]\n",
    "        return quicksort(lesser) + middle + quicksort(greater)\n",
    "        \n",
    "\n",
    "def knn(all_data, cur_data_point, distance_function, k_num, num_class):\n",
    "    \n",
    "    distance_with_class_index = cal_distance(all_data, cur_data_point, distance_function)\n",
    "    \n",
    "    sorted_distance = quicksort(distance_with_class_index)[:k_num]\n",
    "    \n",
    "    class_count = [[0, class_index] for class_index in range(num_class)]\n",
    "    \n",
    "    for (_, class_index) in sorted_distance:\n",
    "        class_count[class_index][0] += 1\n",
    "    \n",
    "    sorted_class_count = quicksort(class_count) #[cnt, idx], from smallest to largest\n",
    "    \n",
    "    return sorted_class_count[-1][1]\n",
    "    "
   ]
  },
  {
   "cell_type": "markdown",
   "metadata": {},
   "source": [
    "# Test"
   ]
  },
  {
   "cell_type": "code",
   "execution_count": 4,
   "metadata": {},
   "outputs": [],
   "source": [
    "class_a = [[1, 2], [3, 4], [1, 5]]\n",
    "class_b = [[5, 6], [7, 8], [5, 9]]\n",
    "\n",
    "test_data = [7,7.5]\n"
   ]
  },
  {
   "cell_type": "code",
   "execution_count": 9,
   "metadata": {},
   "outputs": [
    {
     "data": {
      "text/plain": [
       "1"
      ]
     },
     "execution_count": 9,
     "metadata": {},
     "output_type": "execute_result"
    }
   ],
   "source": [
    "num_class = 2\n",
    "k_num = 1\n",
    "\n",
    "all_data = [np.array(class_a), np.array(class_b)]\n",
    "\n",
    "knn(all_data, np.array(test_data), distance_function, k_num, num_class)"
   ]
  }
 ],
 "metadata": {
  "kernelspec": {
   "display_name": "Python 3",
   "language": "python",
   "name": "python3"
  },
  "language_info": {
   "codemirror_mode": {
    "name": "ipython",
    "version": 3
   },
   "file_extension": ".py",
   "mimetype": "text/x-python",
   "name": "python",
   "nbconvert_exporter": "python",
   "pygments_lexer": "ipython3",
   "version": "3.9.6"
  }
 },
 "nbformat": 4,
 "nbformat_minor": 2
}
