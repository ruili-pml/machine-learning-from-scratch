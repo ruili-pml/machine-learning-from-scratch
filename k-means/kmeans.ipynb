{
 "cells": [
  {
   "cell_type": "markdown",
   "metadata": {},
   "source": [
    "# Implementation"
   ]
  },
  {
   "cell_type": "markdown",
   "metadata": {},
   "source": [
    "- E steps / update class assignment\n",
    "\n",
    "    Given $\\mu_k$ (class means), (1) calculate the distance between $\\mu_k$ and all data (2) sort the distance (3) assign \"class label\" $r_{nk}$\n",
    "\n",
    "- M steps / update class mean\n",
    "\n",
    "    Given $r_{nk}$, calculate $\\mu_k$ for each class\n",
    "\n",
    "- convergence check:\n",
    "\n",
    "    if the change of class means is small enough (here we use L2 norm)"
   ]
  },
  {
   "cell_type": "code",
   "execution_count": 1,
   "metadata": {},
   "outputs": [],
   "source": [
    "import numpy as np\n",
    "\n",
    "class k_means():\n",
    "    \n",
    "    def __init__(self, num_classes):\n",
    "        self.K = num_classes\n",
    "    \n",
    "    def distance_function(self, class_means, data):\n",
    "        \n",
    "        # class_means: [K, D] \n",
    "        # data: [N, D]\n",
    "        # calculate the distance between each data point and class means\n",
    "        # return the distance as [N, K] each row is the distance between a data points and all class \n",
    "        \n",
    "        K, D = class_means.shape\n",
    "        N, _ = data.shape\n",
    "        \n",
    "        class_means = class_means.reshape(1, K, D) \n",
    "        data = data.reshape(N, 1, D)\n",
    "        \n",
    "        distance = np.sqrt(np.sum((data - class_means)**2, axis = 2)) #[N, K]\n",
    "        \n",
    "        return distance\n",
    "\n",
    "\n",
    "    def update_class_assignment(self, class_means, data):\n",
    "        \n",
    "        # given class mean, calculate class assignment\n",
    "        # class_means: [K, D] \n",
    "        # data: [N, D]\n",
    "        \n",
    "        distance = self.distance_function(class_means, data) # [N, K]\n",
    "        \n",
    "        N, D = data.shape\n",
    "        \n",
    "        closest_class = distance.argmin(1) # log closest class index for each data, [N, ]\n",
    "\n",
    "        class_assignment = np.zeros((N, self.K))\n",
    "        \n",
    "        for datapoint_index, datapoint_assignment in enumerate(class_assignment):\n",
    "            cur_class_assignment = closest_class[datapoint_index]\n",
    "            datapoint_assignment[cur_class_assignment] = 1\n",
    "        \n",
    "        return class_assignment\n",
    "\n",
    "    def update_class_mean(self, class_assignment, data):\n",
    "        # data: [N, D]\n",
    "        # class_assignment: [N, K] note that the k-th column indicates whether each data points belongs to class k\n",
    "        \n",
    "        N, D = data.shape\n",
    "\n",
    "        class_means = np.zeros((self.K, D))\n",
    "        \n",
    "        for k in range(self.K):\n",
    "            k_class_assignment = class_assignment[:, k].reshape(N, 1)\n",
    "            # first compute the sum\n",
    "            k_class_mean = np.sum(data * k_class_assignment, axis=0) # [N, D] * [N, 1] -> [N, D]\n",
    "            # then take the mean if there're more than one data points assigned\n",
    "            if np.sum(k_class_assignment) > 1:\n",
    "                k_class_mean = k_class_mean / np.sum(k_class_assignment)\n",
    "                \n",
    "            class_means[k] = k_class_mean\n",
    "        \n",
    "        return class_means\n",
    "\n",
    "    def fit(self, data, steps):\n",
    "        \n",
    "        N, D = data.shape\n",
    "        \n",
    "        class_means = np.random.random((self.K, D))\n",
    "\n",
    "        for step in range(steps):\n",
    "            class_assignment = self.update_class_assignment(class_means, data)\n",
    "            old_class_means = class_means\n",
    "            class_means = self.update_class_mean(class_assignment, data)\n",
    "            \n",
    "            if np.linalg.norm(old_class_means - class_means) < 1e-3:\n",
    "                break\n",
    "        \n",
    "        return class_assignment, class_means\n",
    "    \n",
    "    \n",
    "    "
   ]
  },
  {
   "cell_type": "markdown",
   "metadata": {},
   "source": [
    "# Test"
   ]
  },
  {
   "cell_type": "code",
   "execution_count": 2,
   "metadata": {},
   "outputs": [
    {
     "data": {
      "text/plain": [
       "<matplotlib.collections.PathCollection at 0x11f19b9a0>"
      ]
     },
     "execution_count": 2,
     "metadata": {},
     "output_type": "execute_result"
    },
    {
     "data": {
      "image/png": "[encoded data removed]",
      "text/plain": [
       "<Figure size 640x480 with 1 Axes>"
      ]
     },
     "metadata": {},
     "output_type": "display_data"
    }
   ],
   "source": [
    "points = [[1, 2], [2, 3], [3, 4], [8, 9], [9, 10]]\n",
    "k = 2  # Number of clusters\n",
    "\n",
    "import matplotlib.pyplot as plt\n",
    "\n",
    "plt.scatter(np.array(points)[:, 0], np.array(points)[:, 1])"
   ]
  },
  {
   "cell_type": "code",
   "execution_count": 3,
   "metadata": {},
   "outputs": [
    {
     "data": {
      "text/plain": [
       "(array([[1., 0.],\n",
       "        [1., 0.],\n",
       "        [1., 0.],\n",
       "        [0., 1.],\n",
       "        [0., 1.]]),\n",
       " array([[2. , 3. ],\n",
       "        [8.5, 9.5]]))"
      ]
     },
     "execution_count": 3,
     "metadata": {},
     "output_type": "execute_result"
    }
   ],
   "source": [
    "k_means_model = k_means(num_classes=k)\n",
    "\n",
    "k_means_model.fit(np.array(points), 20)"
   ]
  },
  {
   "cell_type": "code",
   "execution_count": 4,
   "metadata": {},
   "outputs": [],
   "source": [
    "from sklearn.cluster import KMeans\n",
    "kmeans = KMeans(n_clusters=2).fit(np.array(points))"
   ]
  },
  {
   "cell_type": "code",
   "execution_count": 5,
   "metadata": {},
   "outputs": [
    {
     "data": {
      "text/plain": [
       "array([1, 1, 1, 0, 0], dtype=int32)"
      ]
     },
     "execution_count": 5,
     "metadata": {},
     "output_type": "execute_result"
    }
   ],
   "source": [
    "kmeans.labels_"
   ]
  },
  {
   "cell_type": "code",
   "execution_count": 6,
   "metadata": {},
   "outputs": [
    {
     "data": {
      "text/plain": [
       "array([[8.5, 9.5],\n",
       "       [2. , 3. ]])"
      ]
     },
     "execution_count": 6,
     "metadata": {},
     "output_type": "execute_result"
    }
   ],
   "source": [
    "kmeans.cluster_centers_"
   ]
  },
  {
   "cell_type": "code",
   "execution_count": null,
   "metadata": {},
   "outputs": [],
   "source": []
  }
 ],
 "metadata": {
  "kernelspec": {
   "display_name": "Python 3",
   "language": "python",
   "name": "python3"
  },
  "language_info": {
   "codemirror_mode": {
    "name": "ipython",
    "version": 3
   },
   "file_extension": ".py",
   "mimetype": "text/x-python",
   "name": "python",
   "nbconvert_exporter": "python",
   "pygments_lexer": "ipython3",
   "version": "3.9.6"
  }
 },
 "nbformat": 4,
 "nbformat_minor": 2
}
