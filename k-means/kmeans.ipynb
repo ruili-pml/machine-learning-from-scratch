{
 "cells": [
  {
   "cell_type": "markdown",
   "metadata": {},
   "source": [
    "- E steps\n",
    "\n",
    "    Given $\\mu_k$ (class means), (1) calculate the distance between $\\mu_k$ and all data (2) sort the distance (3) assign \"class label\" $r_{nk}$\n",
    "\n",
    "- M steps\n",
    "\n",
    "    Given $r_{nk}$, calculate $\\mu_k$ for each class"
   ]
  },
  {
   "cell_type": "code",
   "execution_count": 52,
   "metadata": {},
   "outputs": [],
   "source": [
    "import numpy as np\n",
    "\n",
    "def distance_function(class_means, data):\n",
    "    \n",
    "    # class_means: [K, D] \n",
    "    # data: [N, D]\n",
    "    # calculate the distance between each data point and class means\n",
    "    # return the distance as [N, K] each row is the distance between a data points and all class \n",
    "    \n",
    "    K, D = class_means.shape\n",
    "    N, _ = data.shape\n",
    "    \n",
    "    class_means = class_means.reshape(1, K, D)\n",
    "    data = data.reshape(N, 1, D)\n",
    "    \n",
    "    distance = np.sqrt(np.sum((data - class_means)**2, axis = 2))\n",
    "    \n",
    "    return distance\n",
    "\n",
    "\n",
    "def E_step(class_means, distance_function, data, K):\n",
    "    \n",
    "    # given class mean, calculate class assignment\n",
    "    # class_means: [K, D] \n",
    "    # data: [N, D]\n",
    "    \n",
    "    distance = distance_function(class_means, data) # [N, K]\n",
    "    \n",
    "    N, D = data.shape\n",
    "    \n",
    "    closest_class = distance.argmin(1) # log closest class index for each data\n",
    "\n",
    "    class_assignment = np.zeros((N, K))\n",
    "    \n",
    "    for datapoint_index, datapoint_assignment in enumerate(class_assignment):\n",
    "        cur_class_assignment = closest_class[datapoint_index]\n",
    "        datapoint_assignment[cur_class_assignment] = 1\n",
    "    \n",
    "    return class_assignment\n",
    "\n",
    "def M_step(class_assignment, data, K):\n",
    "    # data: [N, D]\n",
    "    # class_assignment: [N, K] note that the k-th column indicates whether each data points belongs to class k\n",
    "    \n",
    "    N, D = data.shape\n",
    "\n",
    "    class_means = np.zeros((K, D))\n",
    "    \n",
    "    for k in range(K):\n",
    "        k_class_assignment = class_assignment[:, k].reshape(N, 1)\n",
    "        k_class_mean = np.sum(data * k_class_assignment, axis=0) # [N, D] * [N, 1] -> [N, D]\n",
    "        class_means[k] = k_class_mean\n",
    "    \n",
    "    return class_means\n",
    "\n",
    "def k_means(data, K, steps):\n",
    "    \n",
    "    N, D = data.shape\n",
    "    \n",
    "    class_means = np.random.random((K, D))\n",
    "\n",
    "    for step in range(steps):\n",
    "        class_assignment = E_step(class_means, distance_function, data, K)\n",
    "        class_means = M_step(class_assignment, data, K)\n",
    "    \n",
    "    return class_assignment, class_means\n",
    "    \n",
    "    \n",
    "    "
   ]
  },
  {
   "cell_type": "code",
   "execution_count": 53,
   "metadata": {},
   "outputs": [],
   "source": [
    "points = [[1, 2], [2, 3], [3, 4], [8, 9], [9, 10]]\n",
    "k = 2  # Number of clusters\n"
   ]
  },
  {
   "cell_type": "code",
   "execution_count": 56,
   "metadata": {},
   "outputs": [
    {
     "data": {
      "text/plain": [
       "(array([[1., 0.],\n",
       "        [1., 0.],\n",
       "        [1., 0.],\n",
       "        [1., 0.],\n",
       "        [1., 0.]]),\n",
       " array([[23., 28.],\n",
       "        [ 0.,  0.]]))"
      ]
     },
     "execution_count": 56,
     "metadata": {},
     "output_type": "execute_result"
    }
   ],
   "source": [
    "k_means(np.array(points), k, 20)"
   ]
  },
  {
   "cell_type": "code",
   "execution_count": 57,
   "metadata": {},
   "outputs": [],
   "source": [
    "from sklearn.cluster import KMeans"
   ]
  },
  {
   "cell_type": "code",
   "execution_count": 60,
   "metadata": {},
   "outputs": [],
   "source": [
    "kmeans = KMeans(n_clusters=2).fit(np.array(points))"
   ]
  },
  {
   "cell_type": "code",
   "execution_count": 61,
   "metadata": {},
   "outputs": [
    {
     "data": {
      "text/plain": [
       "array([1, 1, 1, 0, 0], dtype=int32)"
      ]
     },
     "execution_count": 61,
     "metadata": {},
     "output_type": "execute_result"
    }
   ],
   "source": [
    "kmeans.labels_"
   ]
  },
  {
   "cell_type": "code",
   "execution_count": 62,
   "metadata": {},
   "outputs": [
    {
     "data": {
      "text/plain": [
       "array([[8.5, 9.5],\n",
       "       [2. , 3. ]])"
      ]
     },
     "execution_count": 62,
     "metadata": {},
     "output_type": "execute_result"
    }
   ],
   "source": [
    "kmeans.cluster_centers_"
   ]
  },
  {
   "cell_type": "code",
   "execution_count": null,
   "metadata": {},
   "outputs": [],
   "source": []
  }
 ],
 "metadata": {
  "kernelspec": {
   "display_name": "Python 3",
   "language": "python",
   "name": "python3"
  },
  "language_info": {
   "codemirror_mode": {
    "name": "ipython",
    "version": 3
   },
   "file_extension": ".py",
   "mimetype": "text/x-python",
   "name": "python",
   "nbconvert_exporter": "python",
   "pygments_lexer": "ipython3",
   "version": "3.9.6"
  }
 },
 "nbformat": 4,
 "nbformat_minor": 2
}
